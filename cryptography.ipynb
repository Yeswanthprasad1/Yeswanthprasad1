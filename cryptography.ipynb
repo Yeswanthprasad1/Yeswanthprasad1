{
  "metadata": {
    "kernelspec": {
      "language": "python",
      "display_name": "Python 3",
      "name": "python3"
    },
    "language_info": {
      "name": "python",
      "version": "3.10.13",
      "mimetype": "text/x-python",
      "codemirror_mode": {
        "name": "ipython",
        "version": 3
      },
      "pygments_lexer": "ipython3",
      "nbconvert_exporter": "python",
      "file_extension": ".py"
    },
    "kaggle": {
      "accelerator": "none",
      "dataSources": [],
      "dockerImageVersionId": 30698,
      "isInternetEnabled": false,
      "language": "python",
      "sourceType": "notebook",
      "isGpuEnabled": false
    },
    "colab": {
      "name": "cryptography",
      "provenance": [],
      "include_colab_link": true
    }
  },
  "nbformat_minor": 0,
  "nbformat": 4,
  "cells": [
    {
      "cell_type": "markdown",
      "metadata": {
        "id": "view-in-github",
        "colab_type": "text"
      },
      "source": [
        "<a href=\"https://colab.research.google.com/github/Yeswanthprasad1/Yeswanthprasad1/blob/main/cryptography.ipynb\" target=\"_parent\"><img src=\"https://colab.research.google.com/assets/colab-badge.svg\" alt=\"Open In Colab\"/></a>"
      ]
    },
    {
      "cell_type": "markdown",
      "source": [
        "# DES\n"
      ],
      "metadata": {
        "id": "iCyHqFQ1nVHg"
      }
    },
    {
      "cell_type": "code",
      "source": [
        "from cryptography.hazmat.primitives import hashes\n",
        "from cryptography.hazmat.backends import default_backend\n",
        "from cryptography.hazmat.primitives.kdf.pbkdf2 import PBKDF2HMAC\n",
        "from cryptography.hazmat.primitives.ciphers import Cipher, algorithms, modes\n",
        "from cryptography.hazmat.backends import default_backend\n",
        "from cryptography.hazmat.primitives import padding\n",
        "import os\n",
        "\n",
        "def generate_des_key():\n",
        "    salt = os.urandom(16)  # Generate a random salt\n",
        "    kdf = PBKDF2HMAC(\n",
        "        algorithm=hashes.SHA256(),\n",
        "        length=8,  # DES key length\n",
        "        salt=salt,\n",
        "        iterations=100000,  # Recommended value\n",
        "        backend=default_backend()\n",
        "    )\n",
        "    key = kdf.derive(b\"password\")  # Generate a key based on a password\n",
        "    return key\n",
        "\n",
        "def des_encrypt(plaintext, key):\n",
        "    backend = default_backend()\n",
        "    cipher = Cipher(algorithms.TripleDES(key), modes.ECB(), backend=backend)\n",
        "    encryptor = cipher.encryptor()\n",
        "    padder = padding.PKCS7(algorithms.TripleDES.block_size).padder()\n",
        "    padded_data = padder.update(plaintext) + padder.finalize()\n",
        "    ciphertext = encryptor.update(padded_data) + encryptor.finalize()\n",
        "    return ciphertext\n",
        "\n",
        "def des_decrypt(ciphertext, key):\n",
        "    backend = default_backend()\n",
        "    cipher = Cipher(algorithms.TripleDES(key), modes.ECB(), backend=backend)\n",
        "    decryptor = cipher.decryptor()\n",
        "    unpadder = padding.PKCS7(algorithms.TripleDES.block_size).unpadder()\n",
        "    decrypted_data = decryptor.update(ciphertext) + decryptor.finalize()\n",
        "    unpadded_data = unpadder.update(decrypted_data) + unpadder.finalize()\n",
        "    return unpadded_data\n",
        "\n",
        "# Sample input data\n",
        "plaintext = b\"Hello, this is a secret message!\"\n",
        "\n",
        "# Generate DES key\n",
        "des_key = generate_des_key()\n",
        "\n",
        "# Performing DES encryption\n",
        "des_encrypted = des_encrypt(plaintext, des_key)\n",
        "\n",
        "# Performing DES decryption\n",
        "decrypted_data = des_decrypt(des_encrypted, des_key)\n",
        "\n",
        "# Displaying input, output, and decrypted data\n",
        "print(\"Input Data:\")\n",
        "print(\"Plaintext:\", plaintext)\n",
        "print(\"Generated DES Key:\", des_key.hex())\n",
        "\n",
        "print(\"\\nOutput Data:\")\n",
        "print(\"DES Encrypted:\", des_encrypted.hex())\n",
        "\n",
        "print(\"\\nDecrypted Data:\")\n",
        "print(\"Decrypted Plaintext:\", decrypted_data.decode())\n"
      ],
      "metadata": {
        "execution": {
          "iopub.status.busy": "2024-04-21T10:16:42.54038Z",
          "iopub.execute_input": "2024-04-21T10:16:42.540784Z",
          "iopub.status.idle": "2024-04-21T10:16:42.631523Z",
          "shell.execute_reply.started": "2024-04-21T10:16:42.540759Z",
          "shell.execute_reply": "2024-04-21T10:16:42.630312Z"
        },
        "trusted": true,
        "id": "vciWjK2enVHh",
        "outputId": "f0ee897a-04c7-4b89-c726-754301179a00"
      },
      "execution_count": null,
      "outputs": [
        {
          "name": "stdout",
          "text": "Input Data:\nPlaintext: b'Hello, this is a secret message!'\nGenerated DES Key: 3fafec3564195682\n\nOutput Data:\nDES Encrypted: b0f87ffe66ab60e732fd3293c3290fe54a98e18ee37647ab445cc8b3b52e3cc9f6bf0787d6a04f4d\n\nDecrypted Data:\nDecrypted Plaintext: Hello, this is a secret message!\n",
          "output_type": "stream"
        }
      ]
    },
    {
      "cell_type": "markdown",
      "source": [
        "# AES"
      ],
      "metadata": {
        "id": "VO_tQYo6nVHi"
      }
    },
    {
      "cell_type": "code",
      "source": [
        "from cryptography.hazmat.primitives.ciphers import Cipher, algorithms, modes\n",
        "from cryptography.hazmat.backends import default_backend\n",
        "from cryptography.hazmat.primitives import padding\n",
        "import os\n",
        "\n",
        "def aes_cipher(plaintext, key, iv):\n",
        "    backend = default_backend()\n",
        "    cipher = Cipher(algorithms.AES(key), modes.CBC(iv), backend=backend)\n",
        "    encryptor = cipher.encryptor()\n",
        "    padder = padding.PKCS7(algorithms.AES.block_size).padder()\n",
        "    padded_data = padder.update(plaintext) + padder.finalize()\n",
        "    ciphertext = encryptor.update(padded_data) + encryptor.finalize()\n",
        "    return ciphertext\n",
        "\n",
        "def aes_decrypt(ciphertext, key, iv):\n",
        "    backend = default_backend()\n",
        "    cipher = Cipher(algorithms.AES(key), modes.CBC(iv), backend=backend)\n",
        "    decryptor = cipher.decryptor()\n",
        "    unpadder = padding.PKCS7(algorithms.AES.block_size).unpadder()\n",
        "    decrypted_data = decryptor.update(ciphertext) + decryptor.finalize()\n",
        "    unpadded_data = unpadder.update(decrypted_data) + unpadder.finalize()\n",
        "    return unpadded_data\n",
        "\n",
        "# Sample input data\n",
        "plaintext = b\"Hello, this is a secret message!\"\n",
        "aes_key = os.urandom(32)  # 32 bytes for AES\n",
        "aes_iv = os.urandom(16)  # 16 bytes for AES IV\n",
        "\n",
        "# Performing AES encryption\n",
        "aes_encrypted = aes_cipher(plaintext, aes_key, aes_iv)\n",
        "\n",
        "# Performing AES decryption\n",
        "aes_decrypted = aes_decrypt(aes_encrypted, aes_key, aes_iv)\n",
        "\n",
        "# Displaying input, output, and decrypted data\n",
        "print(\"Input Data:\")\n",
        "print(\"Plaintext:\", plaintext)\n",
        "print(\"AES Key:\", aes_key)\n",
        "print(\"AES IV:\", aes_iv)\n",
        "\n",
        "print(\"\\nOutput Data:\")\n",
        "print(\"AES Encrypted:\", aes_encrypted)\n",
        "\n",
        "print(\"\\nDecrypted Data:\")\n",
        "print(\"AES Decrypted:\", aes_decrypted.decode())\n"
      ],
      "metadata": {
        "execution": {
          "iopub.status.busy": "2024-04-21T11:59:39.081236Z",
          "iopub.execute_input": "2024-04-21T11:59:39.081989Z",
          "iopub.status.idle": "2024-04-21T11:59:39.300775Z",
          "shell.execute_reply.started": "2024-04-21T11:59:39.081945Z",
          "shell.execute_reply": "2024-04-21T11:59:39.298608Z"
        },
        "trusted": true,
        "id": "WdlZ2HlinVHi",
        "outputId": "bfb4e664-5926-4d5d-ffdd-6387cd2e9fd5"
      },
      "execution_count": null,
      "outputs": [
        {
          "name": "stdout",
          "text": "Input Data:\nPlaintext: b'Hello, this is a secret message!'\nAES Key: b'\\x81/)GT|a\\xce_D\\xa8\\x0e\\xed\\x00\\x17\\xfe\\xcc\\x11\\xa7\\x17\\xc9& \\x11\\xc13\\xd1;\\xab\\x8c\\xecx'\nAES IV: b'/\\x81D\\xab/\\xf6\\xee\\xf1\\xfa4\\x88/|\\x08\\xa7\\xb1'\n\nOutput Data:\nAES Encrypted: b'\\xf3\\x1e6CH\\x1eeV\\x92G-\\r\\xb6\\xbdn\\x10\\xc5\\x15\\xc0`\\x95\\xac,\\x8d\\xd9NN\\xf5Z\\xeaC&\\x92\\xf0\\x1a\\x83\\xael\\xebS\\x86\\x91\\xba\\x04\\x08/\\x92\\xf4'\n\nDecrypted Data:\nAES Decrypted: Hello, this is a secret message!\n",
          "output_type": "stream"
        }
      ]
    },
    {
      "cell_type": "markdown",
      "source": [
        "# RSA"
      ],
      "metadata": {
        "id": "XTD7IVJfnVHj"
      }
    },
    {
      "cell_type": "code",
      "source": [
        "from cryptography.hazmat.primitives.asymmetric import rsa, padding as padding_rsa\n",
        "from cryptography.hazmat.backends import default_backend\n",
        "from cryptography.hazmat.primitives import serialization\n",
        "import os\n",
        "\n",
        "# RSA Cipher\n",
        "def rsa_cipher(plaintext, public_key):\n",
        "    ciphertext = public_key.encrypt(\n",
        "        plaintext,\n",
        "        padding_rsa.OAEP(\n",
        "            mgf=padding_rsa.MGF1(algorithm=hashes.SHA256()),\n",
        "            algorithm=hashes.SHA256(),\n",
        "            label=None\n",
        "        )\n",
        "    )\n",
        "    return ciphertext\n",
        "\n",
        "# RSA Decryption\n",
        "def rsa_decrypt(ciphertext, private_key):\n",
        "    plaintext = private_key.decrypt(\n",
        "        ciphertext,\n",
        "        padding_rsa.OAEP(\n",
        "            mgf=padding_rsa.MGF1(algorithm=hashes.SHA256()),\n",
        "            algorithm=hashes.SHA256(),\n",
        "            label=None\n",
        "        )\n",
        "    )\n",
        "    return plaintext\n",
        "\n",
        "# Generating RSA key pair\n",
        "def generate_rsa_key_pair():\n",
        "    private_key = rsa.generate_private_key(\n",
        "        public_exponent=65537,\n",
        "        key_size=2048,\n",
        "        backend=default_backend()\n",
        "    )\n",
        "    public_key = private_key.public_key()\n",
        "    return private_key, public_key\n",
        "\n",
        "# Sample input data\n",
        "rsa_plaintext = b\"RSA encryption example\"\n",
        "\n",
        "# Generating RSA key pair\n",
        "rsa_private_key, rsa_public_key = generate_rsa_key_pair()\n",
        "\n",
        "# Performing RSA encryption\n",
        "rsa_encrypted = rsa_cipher(rsa_plaintext, rsa_public_key)\n",
        "\n",
        "# Performing RSA decryption\n",
        "decrypted_text = rsa_decrypt(rsa_encrypted, rsa_private_key)\n",
        "\n",
        "# Displaying input and output\n",
        "print(\"Input Data:\")\n",
        "print(\"RSA Plaintext:\", rsa_plaintext)\n",
        "\n",
        "print(\"\\nOutput Data:\")\n",
        "print(\"RSA Encrypted:\", rsa_encrypted)\n",
        "print(\"\\nRSA Decrypted:\", decrypted_text)\n"
      ],
      "metadata": {
        "execution": {
          "iopub.status.busy": "2024-04-21T10:20:51.589671Z",
          "iopub.execute_input": "2024-04-21T10:20:51.590087Z",
          "iopub.status.idle": "2024-04-21T10:20:51.633692Z",
          "shell.execute_reply.started": "2024-04-21T10:20:51.590055Z",
          "shell.execute_reply": "2024-04-21T10:20:51.632562Z"
        },
        "trusted": true,
        "id": "mKAHwTt5nVHj",
        "outputId": "12b56c4f-86fd-47c1-db55-a0584a28d8d8"
      },
      "execution_count": null,
      "outputs": [
        {
          "name": "stdout",
          "text": "Input Data:\nRSA Plaintext: b'RSA encryption example'\n\nOutput Data:\nRSA Encrypted: b'\\xba\\x1b=\\xc3\\xd8\\xb2G\\xc470\\xac\\x07\\xf0\\t\\x1d\\xd1\\xc4\\xf8E.\\xfd&j;\\xc3O\\xaek:\\xb7Z0^dmH\\xda\\xf2\\xdb\\xd3u~8\\x901\\xc6\\x15\\xfeC\\xb06\\x01z\\x18\\x99xHk\\xe9\\xbd\\xc33\\xdc\\x8f>X\\xaa\\xfa0\\xc4\\\\Y\\xb3\"\\x04O%\\x11!\\xb8\\xe6m\\xfe\\x9b\\xab\\xe1\\x8b\\xfa#\\x86\\x1c\\xf3\\x18\\x1e\\x98\\xebJ\\xf2\\xf99\\xa2\\xba=B\\xb2\\x95$\\xe2\\x99\\xc3E5{\\x82:\\xa7\\xd6\\x87\\x8db&\\xb8\\xdf\\xadS\\xad\\\\\\xdbixR\\x9cw\\x84\\xfc\\x92\\x81\\xafd\\x1d\\xf5!\\xdaQ\\x1c#&\\xde:\\xa2\\x07\\xa1wN\\x8f+\\xb4]]L\\x98>q\\xf7\\xb0\\x13\\xa0b`\\xe4j.4\\xd1\\xa2\\x1f\\xa8FW\\x88\\x0f\\x9b\\x99\\x03\\x1aZ\\xb5\\x10\\xa2\\xc2\\x1d\\xe5\\xd1@\\x86\\xfa\\xaco\\x0ek$PN\\xcfr\\xde\\x16\\x80\\xbb\\x97\\x13i\\xcb\\xa6C\\x8f\\xf1u\\x94\\xb9\\xec\\xe0\\xa3\\xfe\\xfa\\x8f\\xca\\\\q\\xa1c,\\xe8%x\\xda\\xe1j\\xb2\\x05\\xb5\\x88@\\xfc\\x841\\xbd\\xa1\\xd6F\\xfe\\x1btk\\xbb\\xa7'\n\nRSA Decrypted: b'RSA encryption example'\n",
          "output_type": "stream"
        }
      ]
    },
    {
      "cell_type": "markdown",
      "source": [
        "# Diffie-Hellman"
      ],
      "metadata": {
        "id": "rNUiCiwznVHk"
      }
    },
    {
      "cell_type": "code",
      "source": [
        "from cryptography.hazmat.primitives.asymmetric import dh\n",
        "from cryptography.hazmat.backends import default_backend\n",
        "\n",
        "def dh_key_exchange():\n",
        "    parameters = dh.generate_parameters(generator=2, key_size=2048, backend=default_backend())\n",
        "    private_key = parameters.generate_private_key()\n",
        "    public_key = private_key.public_key()\n",
        "    return private_key, public_key\n",
        "\n",
        "# Generating Diffie-Hellman key pair\n",
        "private_key, public_key = dh_key_exchange()\n",
        "\n",
        "# Displaying public key\n",
        "print(\"Public Key:\", public_key)\n"
      ],
      "metadata": {
        "execution": {
          "iopub.status.busy": "2024-04-21T10:30:12.833178Z",
          "iopub.execute_input": "2024-04-21T10:30:12.836535Z",
          "iopub.status.idle": "2024-04-21T10:30:16.133841Z",
          "shell.execute_reply.started": "2024-04-21T10:30:12.836484Z",
          "shell.execute_reply": "2024-04-21T10:30:16.133057Z"
        },
        "trusted": true,
        "id": "CJKbzVRCnVHk",
        "outputId": "3875791d-4c16-4d22-9234-c61667374e4f"
      },
      "execution_count": null,
      "outputs": [
        {
          "name": "stdout",
          "text": "Public Key: <cryptography.hazmat.bindings._rust.openssl.dh.DHPublicKey object at 0x7e78ecd2aa70>\n",
          "output_type": "stream"
        }
      ]
    },
    {
      "cell_type": "markdown",
      "source": [
        "# MD5"
      ],
      "metadata": {
        "id": "BVHNOLJonVHk"
      }
    },
    {
      "cell_type": "code",
      "source": [
        "from cryptography.hazmat.primitives import hashes\n",
        "from cryptography.hazmat.backends import default_backend\n",
        "\n",
        "def md5_hash(data):\n",
        "    digest = hashes.Hash(hashes.MD5(), backend=default_backend())\n",
        "    digest.update(data)\n",
        "    return digest.finalize()\n",
        "\n",
        "# Sample input data\n",
        "md5_data = b\"Data to be hashed with MD5\"\n",
        "\n",
        "# Performing MD5 hashing\n",
        "md5_hashed = md5_hash(md5_data)\n",
        "\n",
        "# Displaying input and output\n",
        "print(\"Input Data:\")\n",
        "print(\"Data for MD5 Hashing:\", md5_data)\n",
        "\n",
        "print(\"\\nOutput Data:\")\n",
        "print(\"MD5 Hashed:\", md5_hashed)\n"
      ],
      "metadata": {
        "execution": {
          "iopub.status.busy": "2024-04-21T10:13:39.215172Z",
          "iopub.execute_input": "2024-04-21T10:13:39.21568Z",
          "iopub.status.idle": "2024-04-21T10:13:39.224747Z",
          "shell.execute_reply.started": "2024-04-21T10:13:39.215643Z",
          "shell.execute_reply": "2024-04-21T10:13:39.223102Z"
        },
        "trusted": true,
        "id": "Rg97UHhNnVHk",
        "outputId": "417e8f30-48c9-464f-e8cc-3f86f8dba64c"
      },
      "execution_count": null,
      "outputs": [
        {
          "name": "stdout",
          "text": "Input Data:\nData for MD5 Hashing: b'Data to be hashed with MD5'\n\nOutput Data:\nMD5 Hashed: b'\\x8f[|\\\\\\x99\\x99\\xdco\\xe1\\xce\\xf1S\\xc20\\xca\\xa5'\n",
          "output_type": "stream"
        }
      ]
    },
    {
      "cell_type": "markdown",
      "source": [
        "# SHA 512"
      ],
      "metadata": {
        "id": "911bYsgpnVHl"
      }
    },
    {
      "cell_type": "code",
      "source": [
        "from cryptography.hazmat.primitives import hashes\n",
        "from cryptography.hazmat.backends import default_backend\n",
        "\n",
        "def sha512_hash(data):\n",
        "    digest = hashes.Hash(hashes.SHA512(), backend=default_backend())\n",
        "    digest.update(data)\n",
        "    return digest.finalize()\n",
        "\n",
        "# Sample input data\n",
        "sha512_data = b\"Data to be hashed with SHA512\"\n",
        "\n",
        "# Performing SHA512 hashing\n",
        "sha512_hashed = sha512_hash(sha512_data)\n",
        "\n",
        "# Displaying input and output\n",
        "print(\"Input Data:\")\n",
        "print(\"Data for SHA512 Hashing:\", sha512_data)\n",
        "\n",
        "print(\"\\nOutput Data:\")\n",
        "print(\"SHA512 Hashed:\", sha512_hashed)\n"
      ],
      "metadata": {
        "execution": {
          "iopub.status.busy": "2024-04-21T10:12:13.050965Z",
          "iopub.execute_input": "2024-04-21T10:12:13.051628Z",
          "iopub.status.idle": "2024-04-21T10:12:13.0601Z",
          "shell.execute_reply.started": "2024-04-21T10:12:13.051578Z",
          "shell.execute_reply": "2024-04-21T10:12:13.059357Z"
        },
        "trusted": true,
        "id": "mSEXUGlDnVHl",
        "outputId": "2d6b8abe-7449-4052-910b-2039851042e0"
      },
      "execution_count": null,
      "outputs": [
        {
          "name": "stdout",
          "text": "Input Data:\nData for SHA512 Hashing: b'Data to be hashed with SHA512'\n\nOutput Data:\nSHA512 Hashed: b'Q\\xb0\\xe0(H\\x99s\\xfc\\x14vO\\xf9\\x91\\x0e\\x90\\xb3c\\x05\\xa2P\\xe5>\\xe3p\\xcd\\xcb\\xc0l\\x14\\x87\\x17\\x191\\xd7]\\x1b\\xc6\\x8aRu>4(\\xbbV\\x19\\x83\\xd3Li\\x17\\xa7\\x16\\xf6\\x83\\xe9e\\xbb\\x84\\xe7\\xa5@65'\n",
          "output_type": "stream"
        }
      ]
    }
  ]
}