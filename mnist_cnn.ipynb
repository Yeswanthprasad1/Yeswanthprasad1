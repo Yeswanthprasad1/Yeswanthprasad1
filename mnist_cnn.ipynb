{
  "metadata": {
    "kernelspec": {
      "language": "python",
      "display_name": "Python 3",
      "name": "python3"
    },
    "language_info": {
      "name": "python",
      "version": "3.7.12",
      "mimetype": "text/x-python",
      "codemirror_mode": {
        "name": "ipython",
        "version": 3
      },
      "pygments_lexer": "ipython3",
      "nbconvert_exporter": "python",
      "file_extension": ".py"
    },
    "kaggle": {
      "accelerator": "none",
      "dataSources": [
        {
          "sourceId": 3004,
          "databundleVersionId": 861823,
          "sourceType": "competition"
        }
      ],
      "dockerImageVersionId": 30380,
      "isInternetEnabled": true,
      "language": "python",
      "sourceType": "notebook",
      "isGpuEnabled": false
    },
    "colab": {
      "provenance": [],
      "include_colab_link": true
    }
  },
  "nbformat_minor": 0,
  "nbformat": 4,
  "cells": [
    {
      "cell_type": "markdown",
      "metadata": {
        "id": "view-in-github",
        "colab_type": "text"
      },
      "source": [
        "<a href=\"https://colab.research.google.com/github/Yeswanthprasad1/Yeswanthprasad1/blob/main/mnist_cnn.ipynb\" target=\"_parent\"><img src=\"https://colab.research.google.com/assets/colab-badge.svg\" alt=\"Open In Colab\"/></a>"
      ]
    },
    {
      "cell_type": "code",
      "source": [
        "from keras import models, layers, Sequential\n",
        "from sklearn.model_selection import train_test_split\n",
        "from keras.layers import Dense , Dropout , Conv2D , MaxPooling2D, Flatten\n",
        "from keras.preprocessing.image import *\n",
        "from tensorflow.keras.optimizers import Adam"
      ],
      "metadata": {
        "execution": {
          "iopub.status.busy": "2024-07-29T16:42:51.340071Z",
          "iopub.execute_input": "2024-07-29T16:42:51.340572Z",
          "iopub.status.idle": "2024-07-29T16:42:51.346831Z",
          "shell.execute_reply.started": "2024-07-29T16:42:51.340526Z",
          "shell.execute_reply": "2024-07-29T16:42:51.345772Z"
        },
        "trusted": true,
        "id": "giERuy3Gb4_6"
      },
      "execution_count": null,
      "outputs": []
    },
    {
      "cell_type": "code",
      "source": [
        "import pandas as pd\n",
        "from keras.datasets import mnist\n"
      ],
      "metadata": {
        "execution": {
          "iopub.status.busy": "2024-07-29T16:42:51.348335Z",
          "iopub.execute_input": "2024-07-29T16:42:51.348999Z",
          "iopub.status.idle": "2024-07-29T16:42:51.3583Z",
          "shell.execute_reply.started": "2024-07-29T16:42:51.348965Z",
          "shell.execute_reply": "2024-07-29T16:42:51.357254Z"
        },
        "trusted": true,
        "id": "iYZA_qTfb4_7"
      },
      "execution_count": null,
      "outputs": []
    },
    {
      "cell_type": "code",
      "source": [
        "(X_train, y_train), (X_test, y_test) = mnist.load_data()\n"
      ],
      "metadata": {
        "execution": {
          "iopub.status.busy": "2024-07-29T16:42:51.359779Z",
          "iopub.execute_input": "2024-07-29T16:42:51.360792Z",
          "iopub.status.idle": "2024-07-29T16:42:51.679101Z",
          "shell.execute_reply.started": "2024-07-29T16:42:51.360746Z",
          "shell.execute_reply": "2024-07-29T16:42:51.678129Z"
        },
        "trusted": true,
        "id": "S24dprvMb4_7"
      },
      "execution_count": null,
      "outputs": []
    },
    {
      "cell_type": "code",
      "source": [
        "# Flatten the image data\n",
        "X_train_flat = X_train.reshape(X_train.shape[0], -1)\n",
        "X_test_flat = X_test.reshape(X_test.shape[0], -1)\n",
        "\n",
        "# Convert to pandas DataFrame\n",
        "df_train = pd.DataFrame(X_train_flat)\n",
        "df_train['label'] = y_train\n",
        "\n",
        "df_test = pd.DataFrame(X_test_flat)\n",
        "df_test['label'] = y_test\n"
      ],
      "metadata": {
        "execution": {
          "iopub.status.busy": "2024-07-29T16:42:51.68189Z",
          "iopub.execute_input": "2024-07-29T16:42:51.68225Z",
          "iopub.status.idle": "2024-07-29T16:42:51.696646Z",
          "shell.execute_reply.started": "2024-07-29T16:42:51.682201Z",
          "shell.execute_reply": "2024-07-29T16:42:51.695447Z"
        },
        "trusted": true,
        "id": "605jbV1Kb4_7"
      },
      "execution_count": null,
      "outputs": []
    },
    {
      "cell_type": "code",
      "source": [
        "# Display the first few rows of the training DataFrame\n",
        "print(df_train.head())\n",
        "\n",
        "# Display the first few rows of the test DataFrame\n",
        "print(df_test.head())"
      ],
      "metadata": {
        "execution": {
          "iopub.status.busy": "2024-07-29T16:42:51.698049Z",
          "iopub.execute_input": "2024-07-29T16:42:51.698492Z",
          "iopub.status.idle": "2024-07-29T16:42:51.72086Z",
          "shell.execute_reply.started": "2024-07-29T16:42:51.698448Z",
          "shell.execute_reply": "2024-07-29T16:42:51.719656Z"
        },
        "trusted": true,
        "id": "OMeWMC8cb4_8",
        "outputId": "f97e7e01-b91e-44c3-8dbc-ed7fc13ac118"
      },
      "execution_count": null,
      "outputs": [
        {
          "name": "stdout",
          "text": "   0  1  2  3  4  5  6  7  8  9  ...  775  776  777  778  779  780  781  782  \\\n0  0  0  0  0  0  0  0  0  0  0  ...    0    0    0    0    0    0    0    0   \n1  0  0  0  0  0  0  0  0  0  0  ...    0    0    0    0    0    0    0    0   \n2  0  0  0  0  0  0  0  0  0  0  ...    0    0    0    0    0    0    0    0   \n3  0  0  0  0  0  0  0  0  0  0  ...    0    0    0    0    0    0    0    0   \n4  0  0  0  0  0  0  0  0  0  0  ...    0    0    0    0    0    0    0    0   \n\n   783  label  \n0    0      5  \n1    0      0  \n2    0      4  \n3    0      1  \n4    0      9  \n\n[5 rows x 785 columns]\n   0  1  2  3  4  5  6  7  8  9  ...  775  776  777  778  779  780  781  782  \\\n0  0  0  0  0  0  0  0  0  0  0  ...    0    0    0    0    0    0    0    0   \n1  0  0  0  0  0  0  0  0  0  0  ...    0    0    0    0    0    0    0    0   \n2  0  0  0  0  0  0  0  0  0  0  ...    0    0    0    0    0    0    0    0   \n3  0  0  0  0  0  0  0  0  0  0  ...    0    0    0    0    0    0    0    0   \n4  0  0  0  0  0  0  0  0  0  0  ...    0    0    0    0    0    0    0    0   \n\n   783  label  \n0    0      7  \n1    0      2  \n2    0      1  \n3    0      0  \n4    0      4  \n\n[5 rows x 785 columns]\n",
          "output_type": "stream"
        }
      ]
    },
    {
      "cell_type": "code",
      "source": [
        "pixel_data=df_train.iloc[:,1:785] #from col 1 to 785\n",
        "label=df_train[\"label\"]\n",
        "\n",
        "number=np.array(pixel_data)\n",
        "number=number.reshape(len(pixel_data),28,28,1)"
      ],
      "metadata": {
        "execution": {
          "iopub.status.busy": "2024-07-29T16:42:51.722335Z",
          "iopub.execute_input": "2024-07-29T16:42:51.72268Z",
          "iopub.status.idle": "2024-07-29T16:42:52.2402Z",
          "shell.execute_reply.started": "2024-07-29T16:42:51.722649Z",
          "shell.execute_reply": "2024-07-29T16:42:52.239107Z"
        },
        "trusted": true,
        "id": "2DMa2IYQb4_9"
      },
      "execution_count": null,
      "outputs": []
    },
    {
      "cell_type": "code",
      "source": [
        "import matplotlib.pyplot as plt\n",
        "\n",
        "plt.imshow(number[0])\n",
        "plt.title(\"Value is: %d\" % label[0])"
      ],
      "metadata": {
        "execution": {
          "iopub.status.busy": "2024-07-29T16:42:52.241598Z",
          "iopub.execute_input": "2024-07-29T16:42:52.242018Z",
          "iopub.status.idle": "2024-07-29T16:42:52.381321Z",
          "shell.execute_reply.started": "2024-07-29T16:42:52.241976Z",
          "shell.execute_reply": "2024-07-29T16:42:52.380198Z"
        },
        "trusted": true,
        "id": "4PHTQGwLb4_9",
        "outputId": "ebb3cb72-c76a-443b-8cb5-57487a81be1d"
      },
      "execution_count": null,
      "outputs": [
        {
          "execution_count": 29,
          "output_type": "execute_result",
          "data": {
            "text/plain": "Text(0.5, 1.0, 'Value is: 5')"
          },
          "metadata": {}
        },
        {
          "output_type": "display_data",
          "data": {
            "text/plain": "<Figure size 432x288 with 1 Axes>",
            "image/png": "[encoded data removed]"
          },
          "metadata": {
            "needs_background": "light"
          }
        }
      ]
    },
    {
      "cell_type": "code",
      "source": [
        "#train test split\n",
        "\n",
        "X_train, X_test, y_train, y_test= train_test_split(number, label, train_size=0.2, random_state=42)"
      ],
      "metadata": {
        "execution": {
          "iopub.status.busy": "2024-07-29T16:42:52.384214Z",
          "iopub.execute_input": "2024-07-29T16:42:52.384685Z",
          "iopub.status.idle": "2024-07-29T16:42:52.772822Z",
          "shell.execute_reply.started": "2024-07-29T16:42:52.384639Z",
          "shell.execute_reply": "2024-07-29T16:42:52.771606Z"
        },
        "trusted": true,
        "id": "dPdV17Kcb4_-"
      },
      "execution_count": null,
      "outputs": []
    },
    {
      "cell_type": "code",
      "source": [
        "img_data_gen=ImageDataGenerator()\n",
        "\n",
        "model=Sequential()\n",
        "\n",
        "model.add(Conv2D(8, kernel_size=(3,3), activation='relu', input_shape=(28,28,1)))\n",
        "model.add(Conv2D(16, kernel_size=(3,3), activation='relu'))\n",
        "model.add(MaxPooling2D(pool_size=(2, 2)))\n",
        "model.add(Dropout(0.25))\n",
        "\n",
        "model.add(Conv2D(32, kernel_size=(3, 3), activation='relu'))\n",
        "model.add(MaxPooling2D(pool_size=(2, 2)))\n",
        "model.add(Conv2D(32, kernel_size=(3, 3), activation='relu'))\n",
        "model.add(MaxPooling2D(pool_size=(2, 2)))\n",
        "model.add(Dropout(0.25))\n",
        "\n",
        "model.add(Flatten())\n",
        "model.add(Dense(64, activation='relu'))\n",
        "model.add(Dropout(0.5))\n",
        "model.add(Dense(10, activation='softmax'))"
      ],
      "metadata": {
        "execution": {
          "iopub.status.busy": "2024-07-29T16:42:52.774303Z",
          "iopub.execute_input": "2024-07-29T16:42:52.774666Z",
          "iopub.status.idle": "2024-07-29T16:42:52.864185Z",
          "shell.execute_reply.started": "2024-07-29T16:42:52.774633Z",
          "shell.execute_reply": "2024-07-29T16:42:52.863213Z"
        },
        "trusted": true,
        "id": "4uBlvTD6b4_-"
      },
      "execution_count": null,
      "outputs": []
    },
    {
      "cell_type": "code",
      "source": [
        "model.compile(loss='sparse_categorical_crossentropy', optimizer='adam', metrics=['accuracy'])"
      ],
      "metadata": {
        "execution": {
          "iopub.status.busy": "2024-07-29T16:42:52.865561Z",
          "iopub.execute_input": "2024-07-29T16:42:52.865985Z",
          "iopub.status.idle": "2024-07-29T16:42:52.876874Z",
          "shell.execute_reply.started": "2024-07-29T16:42:52.865945Z",
          "shell.execute_reply": "2024-07-29T16:42:52.875679Z"
        },
        "trusted": true,
        "id": "Lxml4cA2b4_-"
      },
      "execution_count": null,
      "outputs": []
    },
    {
      "cell_type": "code",
      "source": [
        "model.fit(X_train, y_train,epochs=25)"
      ],
      "metadata": {
        "execution": {
          "iopub.status.busy": "2024-07-29T16:42:52.878581Z",
          "iopub.execute_input": "2024-07-29T16:42:52.879678Z",
          "iopub.status.idle": "2024-07-29T16:44:17.988596Z",
          "shell.execute_reply.started": "2024-07-29T16:42:52.879631Z",
          "shell.execute_reply": "2024-07-29T16:44:17.987418Z"
        },
        "trusted": true,
        "id": "aJEg2uhub4__",
        "outputId": "256937c5-fc02-47aa-b2e7-3dd4e356a8e1"
      },
      "execution_count": null,
      "outputs": [
        {
          "name": "stdout",
          "text": "Epoch 1/25\n375/375 [==============================] - 4s 9ms/step - loss: 2.9573 - accuracy: 0.1647\nEpoch 2/25\n375/375 [==============================] - 3s 9ms/step - loss: 2.0690 - accuracy: 0.2067\nEpoch 3/25\n375/375 [==============================] - 3s 9ms/step - loss: 2.0002 - accuracy: 0.2334\nEpoch 4/25\n375/375 [==============================] - 3s 9ms/step - loss: 1.8709 - accuracy: 0.2808\nEpoch 5/25\n375/375 [==============================] - 3s 9ms/step - loss: 1.7251 - accuracy: 0.3235\nEpoch 6/25\n375/375 [==============================] - 3s 9ms/step - loss: 1.6136 - accuracy: 0.3650\nEpoch 7/25\n375/375 [==============================] - 4s 12ms/step - loss: 1.4561 - accuracy: 0.4287\nEpoch 8/25\n375/375 [==============================] - 3s 9ms/step - loss: 1.2772 - accuracy: 0.5213\nEpoch 9/25\n375/375 [==============================] - 3s 9ms/step - loss: 1.1297 - accuracy: 0.5965\nEpoch 10/25\n375/375 [==============================] - 3s 9ms/step - loss: 1.0299 - accuracy: 0.6368\nEpoch 11/25\n375/375 [==============================] - 3s 9ms/step - loss: 0.8462 - accuracy: 0.7311\nEpoch 12/25\n375/375 [==============================] - 3s 9ms/step - loss: 0.6577 - accuracy: 0.7952\nEpoch 13/25\n375/375 [==============================] - 3s 9ms/step - loss: 0.6032 - accuracy: 0.8145\nEpoch 14/25\n375/375 [==============================] - 3s 9ms/step - loss: 0.5345 - accuracy: 0.8411\nEpoch 15/25\n375/375 [==============================] - 3s 9ms/step - loss: 0.5029 - accuracy: 0.8539\nEpoch 16/25\n375/375 [==============================] - 3s 9ms/step - loss: 0.4627 - accuracy: 0.8649\nEpoch 17/25\n375/375 [==============================] - 4s 12ms/step - loss: 0.4175 - accuracy: 0.8765\nEpoch 18/25\n375/375 [==============================] - 3s 9ms/step - loss: 0.3964 - accuracy: 0.8847\nEpoch 19/25\n375/375 [==============================] - 3s 9ms/step - loss: 0.4033 - accuracy: 0.8814\nEpoch 20/25\n375/375 [==============================] - 3s 9ms/step - loss: 0.3708 - accuracy: 0.8942\nEpoch 21/25\n375/375 [==============================] - 3s 9ms/step - loss: 0.3577 - accuracy: 0.8953\nEpoch 22/25\n375/375 [==============================] - 3s 9ms/step - loss: 0.3464 - accuracy: 0.9002\nEpoch 23/25\n375/375 [==============================] - 3s 9ms/step - loss: 0.3356 - accuracy: 0.9042\nEpoch 24/25\n375/375 [==============================] - 3s 9ms/step - loss: 0.3183 - accuracy: 0.9097\nEpoch 25/25\n375/375 [==============================] - 3s 9ms/step - loss: 0.3259 - accuracy: 0.9053\n",
          "output_type": "stream"
        },
        {
          "execution_count": 33,
          "output_type": "execute_result",
          "data": {
            "text/plain": "<keras.callbacks.History at 0x79b0d745dfd0>"
          },
          "metadata": {}
        }
      ]
    },
    {
      "cell_type": "code",
      "source": [
        "# test using validation set\n",
        "y_pred = model.predict(X_test)\n",
        "y_predict = [np.argmax(y_pred[i]) for i in range(len(y_pred))]"
      ],
      "metadata": {
        "execution": {
          "iopub.status.busy": "2024-07-29T16:44:17.989895Z",
          "iopub.execute_input": "2024-07-29T16:44:17.990237Z",
          "iopub.status.idle": "2024-07-29T16:44:22.804836Z",
          "shell.execute_reply.started": "2024-07-29T16:44:17.990191Z",
          "shell.execute_reply": "2024-07-29T16:44:22.80375Z"
        },
        "trusted": true,
        "id": "74WShm1fb4__"
      },
      "execution_count": null,
      "outputs": []
    },
    {
      "cell_type": "code",
      "source": [
        "y_list = y_test.to_list()\n",
        "plt.figure(figsize=(10,10))\n",
        "for i in range(9):\n",
        "    plt.subplot(3,3,i+1)\n",
        "    plt.imshow(X_test[i])\n",
        "    plt.axis('off')\n",
        "    plt.title('actual value : %d' %y_list[i]+ '\\n predicted value is : %d ' % y_predict[i])"
      ],
      "metadata": {
        "execution": {
          "iopub.status.busy": "2024-07-29T16:44:22.808349Z",
          "iopub.execute_input": "2024-07-29T16:44:22.808757Z",
          "iopub.status.idle": "2024-07-29T16:44:23.43703Z",
          "shell.execute_reply.started": "2024-07-29T16:44:22.808721Z",
          "shell.execute_reply": "2024-07-29T16:44:23.435929Z"
        },
        "trusted": true,
        "id": "2ChdYcdjb4__",
        "outputId": "9a3a94d6-36b7-4f39-81c8-5f1d280de9b3"
      },
      "execution_count": null,
      "outputs": [
        {
          "output_type": "display_data",
          "data": {
            "text/plain": "<Figure size 720x720 with 9 Axes>",
            "image/png": "[encoded data removed]"
          },
          "metadata": {
            "needs_background": "light"
          }
        }
      ]
    },
    {
      "cell_type": "code",
      "source": [
        "# validation accuracy to see if we're on the right track\n",
        "from sklearn.metrics import accuracy_score\n",
        "accuracy_score(y_test,y_predict)"
      ],
      "metadata": {
        "execution": {
          "iopub.status.busy": "2024-07-29T16:44:23.438476Z",
          "iopub.execute_input": "2024-07-29T16:44:23.43882Z",
          "iopub.status.idle": "2024-07-29T16:44:23.45794Z",
          "shell.execute_reply.started": "2024-07-29T16:44:23.438784Z",
          "shell.execute_reply": "2024-07-29T16:44:23.456828Z"
        },
        "trusted": true,
        "id": "_FDcOaiXb4__",
        "outputId": "af456307-c028-4340-e320-1b5656e51599"
      },
      "execution_count": null,
      "outputs": [
        {
          "execution_count": 36,
          "output_type": "execute_result",
          "data": {
            "text/plain": "0.9714375"
          },
          "metadata": {}
        }
      ]
    }
  ]
}